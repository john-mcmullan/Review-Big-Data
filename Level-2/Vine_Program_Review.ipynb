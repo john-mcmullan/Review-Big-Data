{
 "cells": [
  {
   "cell_type": "code",
   "execution_count": null,
   "id": "63355d3a",
   "metadata": {},
   "outputs": [],
   "source": [
    "import os\n",
    "# Find the latest version of spark 3.2  from http://www.apache.org/dist/spark/ and enter as the spark version\n",
    "# For example:\n",
    "spark_version = 'spark-3.2.2'\n",
    "os.environ['SPARK_VERSION']=spark_version\n",
    "\n",
    "# Install Spark and Java\n",
    "!apt-get update\n",
    "!apt-get install openjdk-8-jdk-headless -qq > /dev/null\n",
    "!wget -q http://www.apache.org/dist/spark/$SPARK_VERSION/$SPARK_VERSION-bin-hadoop2.7.tgz\n",
    "!tar xf $SPARK_VERSION-bin-hadoop2.7.tgz\n",
    "!pip install -q findspark\n",
    "\n",
    "# Set Environment Variables\n",
    "os.environ[\"JAVA_HOME\"] = \"/usr/lib/jvm/java-8-openjdk-amd64\"\n",
    "os.environ[\"SPARK_HOME\"] = f\"/content/{spark_version}-bin-hadoop2.7\"\n",
    "\n",
    "# Start a SparkSession\n",
    "import findspark\n",
    "findspark.init()"
   ]
  },
  {
   "cell_type": "code",
   "execution_count": null,
   "id": "72ce1a77",
   "metadata": {},
   "outputs": [],
   "source": [
    "!wget https://jdbc.postgresql.org/download/postgresql-42.2.9.jar"
   ]
  },
  {
   "cell_type": "code",
   "execution_count": null,
   "id": "27e39814",
   "metadata": {},
   "outputs": [],
   "source": [
    "from pyspark.sql import SparkSession\n",
    "spark = SparkSession.builder.appName(\"CloudETL\").config(\"spark.driver.extraClassPath\",\"/content/postgresql-42.2.9.jar\").getOrCreate()"
   ]
  },
  {
   "cell_type": "markdown",
   "id": "0a93da63",
   "metadata": {},
   "source": [
    "# **Load Reviews**"
   ]
  },
  {
   "cell_type": "code",
   "execution_count": null,
   "id": "27645586",
   "metadata": {},
   "outputs": [],
   "source": [
    "from pyspark import SparkFiles\n",
    "# Load file\n",
    "\n",
    "url = 'https://s3.amazonaws.com/amazon-reviews-pds/tsv/amazon_reviews_us_Watches_v1_00.tsv.gz'\n",
    "spark.sparkContext.addFile(url)\n",
    "df = spark.read.csv(SparkFiles.get(\"amazon_reviews_us_Watches_v1_00.tsv.gz\"), sep=\"\\t\", header=True)\n",
    "df.show()"
   ]
  },
  {
   "cell_type": "code",
   "execution_count": null,
   "id": "1c5750fc",
   "metadata": {},
   "outputs": [],
   "source": [
    "from pyspark import SparkFiles\n",
    "# Load file\n",
    "\n",
    "url = 'https://s3.amazonaws.com/amazon-reviews-pds/tsv/amazon_reviews_us_Software_v1_00.tsv.gz'\n",
    "spark.sparkContext.addFile(url)\n",
    "Softwaredf = spark.read.csv(SparkFiles.get(\"amazon_reviews_us_Software_v1_00.tsv.gz\"), sep=\"\\t\", header=True)\n",
    "Softwaredf.show()"
   ]
  },
  {
   "cell_type": "markdown",
   "id": "3d7db0b1",
   "metadata": {},
   "source": [
    "# **Drop Unused Data**"
   ]
  },
  {
   "cell_type": "code",
   "execution_count": null,
   "id": "935f17b4",
   "metadata": {},
   "outputs": [],
   "source": [
    "df = df.dropna()\n",
    "df = df.dropDuplicates()\n",
    "df.count()"
   ]
  },
  {
   "cell_type": "code",
   "execution_count": null,
   "id": "b814059c",
   "metadata": {},
   "outputs": [],
   "source": [
    "Softwaredf = Softwaredf.dropna()\n",
    "Softwaredf = Softwaredf.dropDuplicates()\n",
    "Softwaredf.count()"
   ]
  },
  {
   "cell_type": "markdown",
   "id": "0500563f",
   "metadata": {},
   "source": [
    "# **Filter data**"
   ]
  },
  {
   "cell_type": "code",
   "execution_count": null,
   "id": "6a1158bb",
   "metadata": {},
   "outputs": [],
   "source": [
    "paidDF = df.filter(df['vine'] == 'Y')\n",
    "unpaidDF = df.filter(df['vine'] == 'N')\n",
    "print(paidDF.count())\n",
    "print(unpaidDF.count())"
   ]
  },
  {
   "cell_type": "code",
   "execution_count": null,
   "id": "53647b71",
   "metadata": {},
   "outputs": [],
   "source": [
    "SoftwarepaidDF = Softwaredf.filter(Softwaredf['vine'] == 'Y')\n",
    "SoftwareunpaidDF = Softwaredf.filter(Softwaredf['vine'] == 'N')\n",
    "print(SoftwarepaidDF.count())\n",
    "print(SoftwareunpaidDF.count())"
   ]
  },
  {
   "cell_type": "markdown",
   "id": "46ee86d7",
   "metadata": {},
   "source": [
    "# **Find and Print Results**"
   ]
  },
  {
   "cell_type": "code",
   "execution_count": null,
   "id": "13bea8cd",
   "metadata": {},
   "outputs": [],
   "source": [
    "# Vine Program Stats\n",
    "paid5star = paidDF[paidDF['star_rating']==5].count()\n",
    "PaidPercentage = (paid5star/(paidDF.count()))*100\n",
    "\n",
    "# Normal Reviews Program Stats\n",
    "unpaid5star = unpaidDF[unpaidDF['star_rating']==5].count()\n",
    "UnpaidPercentage = (unpaid5star/(unpaidDF.count()))*100"
   ]
  },
  {
   "cell_type": "code",
   "execution_count": null,
   "id": "960bdf3a",
   "metadata": {},
   "outputs": [],
   "source": [
    "# Vine Program Stats\n",
    "Softwarepaid5star = SoftwarepaidDF[SoftwarepaidDF['star_rating']==5].count()\n",
    "SoftwarePaidPercentage = (Softwarepaid5star/(SoftwarepaidDF.count()))*100\n",
    "\n",
    "# Normal Reviews Program Stats\n",
    "Softwareunpaid5star = SoftwareunpaidDF[SoftwareunpaidDF['star_rating']==5].count()\n",
    "SoftwareUnpaidPercentage = (Softwareunpaid5star/(SoftwareunpaidDF.count()))*100"
   ]
  },
  {
   "cell_type": "code",
   "execution_count": null,
   "id": "e09c1a60",
   "metadata": {},
   "outputs": [],
   "source": [
    "print(f'Watches Vine Program \\nNumber of 5 Star Reviews: {paid5star} \\n\\\n",
    "Number of Reviews: {paidDF.count()} \\n\\\n",
    "Percentage 5 Star Reviews: {PaidPercentage:.2f}%')"
   ]
  },
  {
   "cell_type": "code",
   "execution_count": null,
   "id": "79a9d069",
   "metadata": {},
   "outputs": [],
   "source": [
    "print(f'Watches Normal Reviews \\nNumber of 5 Star Reviews: {unpaid5star} \\n\\\n",
    "Number of Reviews: {unpaidDF.count()} \\n\\\n",
    "Percentage 5 Star Reviews: {UnpaidPercentage:.2f}%')"
   ]
  },
  {
   "cell_type": "code",
   "execution_count": null,
   "id": "a257cfd6",
   "metadata": {},
   "outputs": [],
   "source": [
    "print(f'Software Vine Program \\nNumber of 5 Star Reviews: {Softwarepaid5star} \\n\\\n",
    "Number of Reviews: {SoftwarepaidDF.count()} \\n\\\n",
    "Percentage 5 Star Reviews: {SoftwarePaidPercentage:.2f}%')"
   ]
  },
  {
   "cell_type": "code",
   "execution_count": null,
   "id": "c768eeab",
   "metadata": {},
   "outputs": [],
   "source": [
    "print(f'Software Normal Reviews \\nNumber of 5 Star Reviews: {Softwareunpaid5star} \\n\\\n",
    "Number of Reviews: {SoftwareunpaidDF.count()} \\n\\\n",
    "Percentage 5 Star Reviews: {SoftwareUnpaidPercentage:.2f}%')"
   ]
  }
 ],
 "metadata": {
  "kernelspec": {
   "display_name": "Python 3 (ipykernel)",
   "language": "python",
   "name": "python3"
  },
  "language_info": {
   "codemirror_mode": {
    "name": "ipython",
    "version": 3
   },
   "file_extension": ".py",
   "mimetype": "text/x-python",
   "name": "python",
   "nbconvert_exporter": "python",
   "pygments_lexer": "ipython3",
   "version": "3.9.7"
  }
 },
 "nbformat": 4,
 "nbformat_minor": 5
}
